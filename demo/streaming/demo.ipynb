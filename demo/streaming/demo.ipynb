{
 "cells": [
  {
   "cell_type": "code",
   "execution_count": 1,
   "id": "63638ddf",
   "metadata": {
    "tags": []
   },
   "outputs": [
    {
     "name": "stderr",
     "output_type": "stream",
     "text": [
      "/mnt/aoni04/yaguchi/anaconda/anaconda3/envs/torch17/lib/python3.7/site-packages/tqdm/auto.py:22: TqdmWarning: IProgress not found. Please update jupyter and ipywidgets. See https://ipywidgets.readthedocs.io/en/stable/user_install.html\n",
      "  from .autonotebook import tqdm as notebook_tqdm\n"
     ]
    }
   ],
   "source": [
    "import wave\n",
    "import numpy as np\n",
    "import torch\n",
    "import os\n",
    "import glob\n",
    "from tqdm import tqdm\n",
    "import sys\n",
    "import pyaudio\n",
    "import matplotlib.pyplot as plt\n",
    "\n",
    "sys.path.append('../')\n",
    "from espnet2.bin.asr_parallel_transducer_inference import Speech2Text"
   ]
  },
  {
   "cell_type": "code",
   "execution_count": 2,
   "id": "1dff4531",
   "metadata": {
    "tags": []
   },
   "outputs": [],
   "source": [
    "from src.models.timing.model_baseline import BaselineSystem\n",
    "from src.utils.utils import load_config"
   ]
  },
  {
   "cell_type": "code",
   "execution_count": 3,
   "id": "f5a74a8e",
   "metadata": {
    "tags": []
   },
   "outputs": [],
   "source": [
    "def asr_streaming_decoding(data, is_final=False):\n",
    "    speech = data.astype(np.float16)/32767.0\n",
    "    hyps = speech2text.streaming_decode(speech=speech, is_final=is_final)\n",
    "    if hyps[2] is None:\n",
    "        results = speech2text.hypotheses_to_results(speech2text.beam_search.sort_nbest(hyps[1]))\n",
    "    else:\n",
    "        results = speech2text.hypotheses_to_results(speech2text.beam_search.sort_nbest(hyps[2]))\n",
    "        \n",
    "    if results is not None and len(results) > 0 and len(results[0]) > 0:\n",
    "        text = results[0][0]\n",
    "        token_int = results[0][2]\n",
    "    else:\n",
    "        text = ''\n",
    "        token_int = [0]\n",
    "        \n",
    "    if token_int == []:\n",
    "        token_int = [0]\n",
    "        \n",
    "    return text, token_int"
   ]
  },
  {
   "cell_type": "code",
   "execution_count": 4,
   "id": "3fdaa944-74b4-425a-86d8-a9b5519e0ee2",
   "metadata": {
    "tags": []
   },
   "outputs": [],
   "source": [
    "import sflib.sound.sigproc.spec_image as spec_image\n",
    "generator = spec_image.SpectrogramImageGenerator(\n",
    "    framesize=800,\n",
    "    frameshift=160,\n",
    "    fftsize=1024,\n",
    "    image_width=10,\n",
    "    image_height=None,\n",
    "    image_shift=5\n",
    ")"
   ]
  },
  {
   "cell_type": "code",
   "execution_count": 5,
   "id": "02b13c8d",
   "metadata": {
    "tags": []
   },
   "outputs": [
    {
     "name": "stdout",
     "output_type": "stream",
     "text": [
      "3steps\n"
     ]
    }
   ],
   "source": [
    "\"\"\"\n",
    "speech2text = Speech2Text(\n",
    "    asr_base_path=\"/mnt/aoni04/jsakuma/development/espnet-g05-1.8/egs2/atr6/asr1\",\n",
    "    asr_train_config=\"/mnt/aoni04/jsakuma/development/espnet-g05-1.8/egs2/atr6/asr1/exp/asr_train_asr_cbs_transducer_848_finetune_raw_jp_char_sp/config.yaml\",\n",
    "    asr_model_file=\"/mnt/aoni04/jsakuma/development/espnet-g05-1.8/egs2/atr6/asr1/exp/asr_train_asr_cbs_transducer_848_finetune_raw_jp_char_sp/valid.loss_transducer.ave_10best.pth\",\n",
    "    token_type=None,\n",
    "    bpemodel=None,\n",
    "    beam_search_config={\"search_type\": \"maes\"},\n",
    "    beam_size=3,\n",
    "    lm_weight=0.0,\n",
    "    nbest=1,\n",
    "    #device = \"cuda:0\", # \"cpu\",\n",
    "    device = \"cpu\",\n",
    ")\n",
    "\"\"\"\n",
    "speech2text = Speech2Text(\n",
    "    asr_base_path=\"/mnt/aoni04/yaguchi/code/espnet/egs2/atr/asr1\",\n",
    "    asr_train_config=\"/mnt/aoni04/yaguchi/code/espnet/egs2/atr/asr1/exp/asr_train_asr_cbs_transducer_848_finetune_raw_jp_char_sp/config.yaml\",\n",
    "    asr_model_file=\"/mnt/aoni04/yaguchi/code/espnet/egs2/atr/asr1/exp/asr_train_asr_cbs_transducer_848_finetune_raw_jp_char_sp/valid.loss_transducer.ave_10best.pth\",\n",
    "    token_type=None,\n",
    "    bpemodel=None,\n",
    "    beam_size=5,\n",
    "    beam_search_config={\"search_type\": \"maes\"},\n",
    "    lm_weight=0.0,\n",
    "    nbest=1,\n",
    "    #device = \"cuda:0\", # \"cpu\",\n",
    "    device = \"cpu\",\n",
    ")"
   ]
  },
  {
   "cell_type": "code",
   "execution_count": 57,
   "id": "3cd169b7",
   "metadata": {
    "tags": []
   },
   "outputs": [],
   "source": [
    "# config_path = '../configs/timing/timing_baseline_mla_s1234.json'\n",
    "config_path = '../configs/timing/annotated_timing_baseline_mla_s1234.json'\n",
    "config = load_config(config_path)\n",
    "\n",
    "device = torch.device('cpu')\n",
    "\n",
    "model = BaselineSystem(config, device)"
   ]
  },
  {
   "cell_type": "code",
   "execution_count": 58,
   "id": "baf98509",
   "metadata": {
    "tags": []
   },
   "outputs": [
    {
     "data": {
      "text/plain": [
       "BaselineSystem(\n",
       "  (timing_model): TimingEstimator(\n",
       "    (lstm): LSTM(384, 512, batch_first=True)\n",
       "    (fc): Linear(in_features=512, out_features=1, bias=True)\n",
       "    (criterion): BCEWithLogitsLoss()\n",
       "  )\n",
       "  (feature_extractor): FeatureExtractor(\n",
       "    (acoustic_encoder): AcousticEncoder(\n",
       "      (c1): Conv2d(1, 32, kernel_size=(5, 5), stride=(2, 2), padding=(2, 2))\n",
       "      (bn1): BatchNorm2d(32, eps=1e-05, momentum=0.1, affine=True, track_running_stats=True)\n",
       "      (c2): Conv2d(32, 32, kernel_size=(7, 5), stride=(3, 2), padding=(3, 2))\n",
       "      (bn2): BatchNorm2d(32, eps=1e-05, momentum=0.1, affine=True, track_running_stats=True)\n",
       "      (c3): Conv2d(32, 32, kernel_size=(7, 5), stride=(3, 2), padding=(3, 2))\n",
       "      (bn3): BatchNorm2d(32, eps=1e-05, momentum=0.1, affine=True, track_running_stats=True)\n",
       "      (c4): Conv2d(32, 32, kernel_size=(7, 5), stride=(3, 2), padding=(3, 2))\n",
       "      (bn4): BatchNorm2d(32, eps=1e-05, momentum=0.1, affine=True, track_running_stats=True)\n",
       "      (lstm): LSTM(320, 512, batch_first=True)\n",
       "      (fc): Linear(in_features=512, out_features=128, bias=True)\n",
       "    )\n",
       "    (timing_encoder): TimingEncoder(\n",
       "      (vad): VAD(\n",
       "        (c1): Conv2d(1, 32, kernel_size=(5, 5), stride=(2, 2), padding=(2, 2))\n",
       "        (bn1): BatchNorm2d(32, eps=1e-05, momentum=0.1, affine=True, track_running_stats=True)\n",
       "        (c2): Conv2d(32, 32, kernel_size=(7, 5), stride=(3, 2), padding=(3, 2))\n",
       "        (bn2): BatchNorm2d(32, eps=1e-05, momentum=0.1, affine=True, track_running_stats=True)\n",
       "        (c3): Conv2d(32, 32, kernel_size=(7, 5), stride=(3, 2), padding=(3, 2))\n",
       "        (bn3): BatchNorm2d(32, eps=1e-05, momentum=0.1, affine=True, track_running_stats=True)\n",
       "        (c4): Conv2d(32, 32, kernel_size=(7, 5), stride=(3, 2), padding=(3, 2))\n",
       "        (bn4): BatchNorm2d(32, eps=1e-05, momentum=0.1, affine=True, track_running_stats=True)\n",
       "        (lstm): LSTM(320, 512, batch_first=True)\n",
       "        (fc1): Linear(in_features=512, out_features=128, bias=True)\n",
       "        (fc2): Linear(in_features=128, out_features=1, bias=True)\n",
       "        (relu): ReLU()\n",
       "        (criterion): BCEWithLogitsLoss()\n",
       "      )\n",
       "      (linear): Linear(in_features=3, out_features=128, bias=True)\n",
       "    )\n",
       "    (semantic_encoder): TransformerEncoder(\n",
       "      (transformer): TransformerModel(\n",
       "        (pos_encoder): PositionalEncoding(\n",
       "          (dropout): Dropout(p=0.2, inplace=False)\n",
       "        )\n",
       "        (transformer_encoder): TransformerEncoder(\n",
       "          (layers): ModuleList(\n",
       "            (0): TransformerEncoderLayer(\n",
       "              (self_attn): MultiheadAttention(\n",
       "                (out_proj): _LinearWithBias(in_features=300, out_features=300, bias=True)\n",
       "              )\n",
       "              (linear1): Linear(in_features=300, out_features=300, bias=True)\n",
       "              (dropout): Dropout(p=0.2, inplace=False)\n",
       "              (linear2): Linear(in_features=300, out_features=300, bias=True)\n",
       "              (norm1): LayerNorm((300,), eps=1e-05, elementwise_affine=True)\n",
       "              (norm2): LayerNorm((300,), eps=1e-05, elementwise_affine=True)\n",
       "              (dropout1): Dropout(p=0.2, inplace=False)\n",
       "              (dropout2): Dropout(p=0.2, inplace=False)\n",
       "            )\n",
       "            (1): TransformerEncoderLayer(\n",
       "              (self_attn): MultiheadAttention(\n",
       "                (out_proj): _LinearWithBias(in_features=300, out_features=300, bias=True)\n",
       "              )\n",
       "              (linear1): Linear(in_features=300, out_features=300, bias=True)\n",
       "              (dropout): Dropout(p=0.2, inplace=False)\n",
       "              (linear2): Linear(in_features=300, out_features=300, bias=True)\n",
       "              (norm1): LayerNorm((300,), eps=1e-05, elementwise_affine=True)\n",
       "              (norm2): LayerNorm((300,), eps=1e-05, elementwise_affine=True)\n",
       "              (dropout1): Dropout(p=0.2, inplace=False)\n",
       "              (dropout2): Dropout(p=0.2, inplace=False)\n",
       "            )\n",
       "            (2): TransformerEncoderLayer(\n",
       "              (self_attn): MultiheadAttention(\n",
       "                (out_proj): _LinearWithBias(in_features=300, out_features=300, bias=True)\n",
       "              )\n",
       "              (linear1): Linear(in_features=300, out_features=300, bias=True)\n",
       "              (dropout): Dropout(p=0.2, inplace=False)\n",
       "              (linear2): Linear(in_features=300, out_features=300, bias=True)\n",
       "              (norm1): LayerNorm((300,), eps=1e-05, elementwise_affine=True)\n",
       "              (norm2): LayerNorm((300,), eps=1e-05, elementwise_affine=True)\n",
       "              (dropout1): Dropout(p=0.2, inplace=False)\n",
       "              (dropout2): Dropout(p=0.2, inplace=False)\n",
       "            )\n",
       "            (3): TransformerEncoderLayer(\n",
       "              (self_attn): MultiheadAttention(\n",
       "                (out_proj): _LinearWithBias(in_features=300, out_features=300, bias=True)\n",
       "              )\n",
       "              (linear1): Linear(in_features=300, out_features=300, bias=True)\n",
       "              (dropout): Dropout(p=0.2, inplace=False)\n",
       "              (linear2): Linear(in_features=300, out_features=300, bias=True)\n",
       "              (norm1): LayerNorm((300,), eps=1e-05, elementwise_affine=True)\n",
       "              (norm2): LayerNorm((300,), eps=1e-05, elementwise_affine=True)\n",
       "              (dropout1): Dropout(p=0.2, inplace=False)\n",
       "              (dropout2): Dropout(p=0.2, inplace=False)\n",
       "            )\n",
       "            (4): TransformerEncoderLayer(\n",
       "              (self_attn): MultiheadAttention(\n",
       "                (out_proj): _LinearWithBias(in_features=300, out_features=300, bias=True)\n",
       "              )\n",
       "              (linear1): Linear(in_features=300, out_features=300, bias=True)\n",
       "              (dropout): Dropout(p=0.2, inplace=False)\n",
       "              (linear2): Linear(in_features=300, out_features=300, bias=True)\n",
       "              (norm1): LayerNorm((300,), eps=1e-05, elementwise_affine=True)\n",
       "              (norm2): LayerNorm((300,), eps=1e-05, elementwise_affine=True)\n",
       "              (dropout1): Dropout(p=0.2, inplace=False)\n",
       "              (dropout2): Dropout(p=0.2, inplace=False)\n",
       "            )\n",
       "            (5): TransformerEncoderLayer(\n",
       "              (self_attn): MultiheadAttention(\n",
       "                (out_proj): _LinearWithBias(in_features=300, out_features=300, bias=True)\n",
       "              )\n",
       "              (linear1): Linear(in_features=300, out_features=300, bias=True)\n",
       "              (dropout): Dropout(p=0.2, inplace=False)\n",
       "              (linear2): Linear(in_features=300, out_features=300, bias=True)\n",
       "              (norm1): LayerNorm((300,), eps=1e-05, elementwise_affine=True)\n",
       "              (norm2): LayerNorm((300,), eps=1e-05, elementwise_affine=True)\n",
       "              (dropout1): Dropout(p=0.2, inplace=False)\n",
       "              (dropout2): Dropout(p=0.2, inplace=False)\n",
       "            )\n",
       "          )\n",
       "        )\n",
       "        (encoder): Embedding(2307, 300)\n",
       "        (decoder): Linear(in_features=300, out_features=128, bias=True)\n",
       "      )\n",
       "    )\n",
       "  )\n",
       ")"
      ]
     },
     "execution_count": 58,
     "metadata": {},
     "output_type": "execute_result"
    }
   ],
   "source": [
    "# baseline\n",
    "path = \"../exp/annotated/data_-500_2000/timing/vad_all/cv1/best_val_loss_model.pth\"\n",
    "# yaguchinoise\n",
    "# path = \"../exp/annotated/data_-500_2000/timing/yaguchinoise/cv1/best_val_loss_model.pth\"\n",
    "\n",
    "model.load_state_dict(torch.load(path, map_location=torch.device('cpu')))#, strict=False)\n",
    "model.to(device)"
   ]
  },
  {
   "cell_type": "markdown",
   "id": "ba1b9d4f",
   "metadata": {},
   "source": [
    "# File Input"
   ]
  },
  {
   "cell_type": "code",
   "execution_count": 59,
   "id": "94f3d9fa",
   "metadata": {
    "tags": []
   },
   "outputs": [],
   "source": [
    "# original, original_mac, yaguchi_mac, yaguchi_iphone\n",
    "wav_path = '/mnt/aoni04/yaguchi/code/ResponseTimingEstimator_DA/wav/20131101-1_01/20131101-1_01_001_ch0/original.wav'\n",
    "# wav_path = '/mnt/aoni04/yaguchi/code/ResponseTimingEstimator_DA/wav/20131101-1_01/20131101-1_01_001_ch0/original_silence.wav'\n",
    "# wav_path = '/mnt/aoni04/yaguchi/code/ResponseTimingEstimator_DA/wav/20131101-1_01/20131101-1_01_001_ch0/yaguchi_iphone.wav'\n",
    "# wav_path = '/mnt/aoni04/yaguchi/code/ResponseTimingEstimator_DA/wav/20131101-1_01/20131101-1_01_001_ch0/yaguchi_mac.wav'\n",
    "# wav_path = '/mnt/aoni04/yaguchi/code/ResponseTimingEstimator_DA/wav/20131101-1_01/20131101-1_01_001_ch0/original_mac.wav'\n",
    "\n",
    "wf = wave.open(wav_path)\n",
    "wav = np.frombuffer(wf.readframes(wf.getnframes()), np.int16)"
   ]
  },
  {
   "cell_type": "code",
   "execution_count": 60,
   "id": "4ca455c0",
   "metadata": {
    "tags": []
   },
   "outputs": [],
   "source": [
    "import time\n",
    "# start = time.perf_counter()\n",
    "\n",
    "chunk_size = 800*2\n",
    "#chunk_size = 2048\n",
    "asr_chunk_size = 2048\n",
    "\n",
    "speech2text.reset_inference_cache()\n",
    "model.reset_state()\n",
    "\n",
    "pred_list = []\n",
    "text_list = []\n",
    "silence_list = []\n",
    "vad_list = []\n",
    "text = ''\n",
    "pre_text = ''\n",
    "pre_id = [0]\n",
    "asr_buffer = np.array([], dtype='int16')\n",
    "with torch.no_grad():\n",
    "    for i in range(len(wav)//chunk_size):\n",
    "        \n",
    "#         start_o = time.perf_counter()\n",
    "        \n",
    "#         start = time.perf_counter()\n",
    "        wav_chunk = wav[chunk_size*i:chunk_size*(i+1)]\n",
    "\n",
    "        # ASR : \n",
    "        asr_buffer = np.concatenate([asr_buffer, wav_chunk])\n",
    "        if len(asr_buffer) >= asr_chunk_size:\n",
    "            asr_chunk = asr_buffer[:asr_chunk_size]\n",
    "            asr_buffer = asr_buffer[asr_chunk_size:]\n",
    "\n",
    "            text, token_int = asr_streaming_decoding(asr_chunk)\n",
    "        else:\n",
    "            text = pre_text\n",
    "            token_int = pre_id\n",
    "\n",
    "        pre_text = text\n",
    "        pre_id = token_int\n",
    "        \n",
    "#         end = time.perf_counter()        \n",
    "#         print(\"ASR: {:.5f}\".format(end-start))\n",
    "#         start = time.perf_counter()\n",
    "        \n",
    "        # spectrogram\n",
    "        if i == 0:\n",
    "            pad = np.zeros(800, np.int16)\n",
    "            wav_chunk = np.concatenate([pad, wav_chunk])\n",
    "        result = generator.input_wave(wav_chunk)\n",
    "        \n",
    "        \n",
    "#         end = time.perf_counter()        \n",
    "#         print(\"Feature Extraction: {:.5f}\".format(end-start))\n",
    "\n",
    "        # Timing Estimator\n",
    "        feat = torch.tensor(result).unsqueeze(0).float()\n",
    "        input_lengths = [1]\n",
    "        texts = [[text]]\n",
    "        idxs = [[token_int]]\n",
    "        indices = [None]\n",
    "\n",
    "        batch = [feat, input_lengths, texts, idxs, indices, 'test']\n",
    "        out, silence, vad_out = model.streaming_inference(batch, debug=True) \n",
    "        out = torch.sigmoid(out).item()\n",
    "\n",
    "        pred_list.append(out)\n",
    "        text_list.append(text)\n",
    "        silence_list.append(silence)\n",
    "        vad_list.append(vad_out.item())\n",
    "        \n",
    "#         end = time.perf_counter()        \n",
    "#         print(\"Timing Estimator: {:.5f}\".format(end-start))\n",
    "        \n",
    "#         end_o = time.perf_counter()        \n",
    "#         print(\"Total: {:.5f}\".format(end_o-start_o))\n",
    "#         print()"
   ]
  },
  {
   "cell_type": "code",
   "execution_count": 61,
   "id": "80a5ac6c",
   "metadata": {
    "tags": []
   },
   "outputs": [
    {
     "data": {
      "text/plain": [
       "[0.26517537236213684,\n",
       " 0.009152322076261044,\n",
       " 0.9119074940681458,\n",
       " 0.9135545492172241,\n",
       " 0.03489828109741211,\n",
       " 0.9815435409545898,\n",
       " 0.9945490956306458,\n",
       " 0.002733960747718811,\n",
       " 0.9944648146629333,\n",
       " 0.9276320338249207,\n",
       " 0.9972435235977173,\n",
       " 0.04957326874136925,\n",
       " 0.5150045156478882,\n",
       " 0.2931816875934601,\n",
       " 0.98746258020401,\n",
       " 0.99592125415802,\n",
       " 0.9978609681129456,\n",
       " 0.9891157746315002,\n",
       " 0.019063130021095276,\n",
       " 0.353493869304657,\n",
       " 0.948540210723877,\n",
       " 0.9788974523544312,\n",
       " 0.9946537017822266,\n",
       " 0.985808789730072,\n",
       " 0.3790634870529175,\n",
       " 0.9944897890090942,\n",
       " 0.8236635327339172,\n",
       " 0.9656228423118591,\n",
       " 0.9490670561790466,\n",
       " 0.014663861133158207,\n",
       " 0.9121211171150208,\n",
       " 0.7376876473426819,\n",
       " 0.6996073126792908,\n",
       " 0.007396521046757698,\n",
       " 0.2720017433166504,\n",
       " 0.004424355924129486,\n",
       " 0.00820609088987112,\n",
       " 0.002990449545904994,\n",
       " 0.8462228775024414,\n",
       " 0.008406726643443108,\n",
       " 0.05760456249117851,\n",
       " 0.0067205787636339664,\n",
       " 0.0043573626317083836,\n",
       " 0.013565805740654469,\n",
       " 0.004367202054709196,\n",
       " 0.033813878893852234,\n",
       " 0.004383470863103867,\n",
       " 0.004252545069903135,\n",
       " 0.0064224014058709145,\n",
       " 0.1534896194934845,\n",
       " 0.04112257808446884,\n",
       " 0.050195250660181046,\n",
       " 0.1367569863796234,\n",
       " 0.0016331340884789824,\n",
       " 0.02777978591620922,\n",
       " 0.06767423450946808,\n",
       " 0.06057858094573021,\n",
       " 0.49432283639907837,\n",
       " 0.013503966853022575,\n",
       " 0.004986753687262535,\n",
       " 0.006725664716213942]"
      ]
     },
     "execution_count": 61,
     "metadata": {},
     "output_type": "execute_result"
    }
   ],
   "source": [
    "vad_list"
   ]
  },
  {
   "cell_type": "code",
   "execution_count": 62,
   "id": "9bb40090",
   "metadata": {
    "tags": []
   },
   "outputs": [
    {
     "data": {
      "text/plain": [
       "[tensor([[[0.7348, 0.0000, 1.0000]]]),\n",
       " tensor([[[1.7257, 0.0000, 2.0000]]]),\n",
       " tensor([[[1.8138, 1.0000, 3.0000]]]),\n",
       " tensor([[[1.9002, 2.0000, 4.0000]]]),\n",
       " tensor([[[2.8653, 0.0000, 5.0000]]]),\n",
       " tensor([[[2.8838, 1.0000, 6.0000]]]),\n",
       " tensor([[[2.8892, 2.0000, 7.0000]]]),\n",
       " tensor([[[3.8865, 0.0000, 8.0000]]]),\n",
       " tensor([[[3.8920, 1.0000, 9.0000]]]),\n",
       " tensor([[[ 3.9644,  2.0000, 10.0000]]]),\n",
       " tensor([[[ 3.9671,  3.0000, 11.0000]]]),\n",
       " tensor([[[ 4.9176,  0.0000, 12.0000]]]),\n",
       " tensor([[[ 5.4026,  1.0000, 13.0000]]]),\n",
       " tensor([[[ 6.1094,  0.0000, 14.0000]]]),\n",
       " tensor([[[ 6.1219,  1.0000, 15.0000]]]),\n",
       " tensor([[[ 6.1260,  2.0000, 16.0000]]]),\n",
       " tensor([[[ 6.1281,  3.0000, 17.0000]]]),\n",
       " tensor([[[ 6.1390,  4.0000, 18.0000]]]),\n",
       " tensor([[[ 7.1200,  0.0000, 19.0000]]]),\n",
       " tensor([[[ 7.7665,  0.0000, 20.0000]]]),\n",
       " tensor([[[ 7.8179,  1.0000, 21.0000]]]),\n",
       " tensor([[[ 7.8390,  2.0000, 22.0000]]]),\n",
       " tensor([[[ 7.8444,  3.0000, 23.0000]]]),\n",
       " tensor([[[ 7.8586,  4.0000, 24.0000]]]),\n",
       " tensor([[[ 8.4795,  0.0000, 25.0000]]]),\n",
       " tensor([[[ 8.4850,  1.0000, 26.0000]]]),\n",
       " tensor([[[ 8.6614,  2.0000, 27.0000]]]),\n",
       " tensor([[[ 8.6957,  3.0000, 28.0000]]]),\n",
       " tensor([[[ 8.7467,  4.0000, 29.0000]]]),\n",
       " tensor([[[ 9.7320,  0.0000, 30.0000]]]),\n",
       " tensor([[[ 9.8199,  1.0000, 31.0000]]]),\n",
       " tensor([[[10.0822,  2.0000, 32.0000]]]),\n",
       " tensor([[[10.3826,  3.0000, 33.0000]]]),\n",
       " tensor([[[11.3752,  0.0000, 34.0000]]]),\n",
       " tensor([[[12.1032,  0.0000, 35.0000]]]),\n",
       " tensor([[[13.0988,  0.0000, 36.0000]]]),\n",
       " tensor([[[14.0906,  0.0000, 37.0000]]]),\n",
       " tensor([[[15.0876,  0.0000, 38.0000]]]),\n",
       " tensor([[[15.2413,  1.0000, 39.0000]]]),\n",
       " tensor([[[16.2329,  0.0000, 40.0000]]]),\n",
       " tensor([[[17.1753,  0.0000, 41.0000]]]),\n",
       " tensor([[[18.1686,  0.0000, 42.0000]]]),\n",
       " tensor([[[19.1642,  0.0000, 43.0000]]]),\n",
       " tensor([[[20.1507,  0.0000, 44.0000]]]),\n",
       " tensor([[[21.1463,  0.0000, 45.0000]]]),\n",
       " tensor([[[22.1125,  0.0000, 46.0000]]]),\n",
       " tensor([[[23.1081,  0.0000, 47.0000]]]),\n",
       " tensor([[[24.1039,  0.0000, 48.0000]]]),\n",
       " tensor([[[25.0974,  0.0000, 49.0000]]]),\n",
       " tensor([[[25.9440,  0.0000, 50.0000]]]),\n",
       " tensor([[[26.9028,  0.0000, 51.0000]]]),\n",
       " tensor([[[27.8526,  0.0000, 52.0000]]]),\n",
       " tensor([[[28.7159,  0.0000, 53.0000]]]),\n",
       " tensor([[[29.7142,  0.0000, 54.0000]]]),\n",
       " tensor([[[30.6865,  0.0000, 55.0000]]]),\n",
       " tensor([[[31.6188,  0.0000, 56.0000]]]),\n",
       " tensor([[[32.5582,  0.0000, 57.0000]]]),\n",
       " tensor([[[33.0639,  0.0000, 58.0000]]]),\n",
       " tensor([[[34.0504,  0.0000, 59.0000]]]),\n",
       " tensor([[[35.0454,  0.0000, 60.0000]]]),\n",
       " tensor([[[36.0387,  0.0000, 61.0000]]])]"
      ]
     },
     "execution_count": 62,
     "metadata": {},
     "output_type": "execute_result"
    }
   ],
   "source": [
    "silence_list"
   ]
  },
  {
   "cell_type": "code",
   "execution_count": 63,
   "id": "6e7641bf",
   "metadata": {
    "tags": []
   },
   "outputs": [
    {
     "data": {
      "text/plain": [
       "(0.0, 1.0)"
      ]
     },
     "execution_count": 63,
     "metadata": {},
     "output_type": "execute_result"
    },
    {
     "data": {
      "image/png": "[encoded data removed]",
      "text/plain": [
       "<Figure size 640x480 with 1 Axes>"
      ]
     },
     "metadata": {},
     "output_type": "display_data"
    }
   ],
   "source": [
    "import matplotlib.pyplot as plt\n",
    "\n",
    "t = [i * 100 for i in range(len(pred_list))]\n",
    "plt.plot(t, pred_list)\n",
    "plt.plot(t, vad_list)\n",
    "plt.ylim(0.0, 1.0)"
   ]
  },
  {
   "cell_type": "code",
   "execution_count": 64,
   "id": "e132ef26",
   "metadata": {
    "tags": []
   },
   "outputs": [
    {
     "data": {
      "text/plain": [
       "['',\n",
       " '',\n",
       " '',\n",
       " '',\n",
       " '',\n",
       " '',\n",
       " '',\n",
       " 'えーと二',\n",
       " 'えーと日本',\n",
       " 'えーと日本',\n",
       " 'えーと日暮里',\n",
       " 'えーと日暮里の',\n",
       " 'えーと日暮里のち',\n",
       " 'えーと日暮里のち',\n",
       " 'えーと日暮里の近',\n",
       " 'えーと日暮里の近く',\n",
       " 'えーと日暮里の近くで',\n",
       " 'えーと日暮里の近くで何',\n",
       " 'えーと日暮里の近くで何',\n",
       " 'えーと日暮里の近くで何か',\n",
       " 'えーと日暮里の近くで何か',\n",
       " 'えーと日暮里の近くで何かい',\n",
       " 'えーと日暮里の近くで何かい',\n",
       " 'えーと日暮里の近くで何かいい',\n",
       " 'えーと日暮里の近くで何かいいみ',\n",
       " 'えーと日暮里の近くで何かいい店',\n",
       " 'えーと日暮里の近くで何かいい店あ',\n",
       " 'えーと日暮里の近くで何かいい店あ',\n",
       " 'えーと日暮里の近くで何かいい店あり',\n",
       " 'えーと日暮里の近くで何かいい店ありま',\n",
       " 'えーと日暮里の近くで何かいい店あります',\n",
       " 'えーと日暮里の近くで何かいい店ありますかね',\n",
       " 'えーと日暮里の近くで何かいい店ありますかね',\n",
       " 'えーと日暮里の近くで何かいい店ありますかね',\n",
       " 'えーと日暮里の近くで何かいい店ありますかね',\n",
       " 'えーと日暮里の近くで何かいい店ありますかね',\n",
       " 'えーと日暮里の近くで何かいい店ありますかね',\n",
       " 'えーと日暮里の近くで何かいい店ありますかね',\n",
       " 'えーと日暮里の近くで何かいい店ありますかね',\n",
       " 'えーと日暮里の近くで何かいい店ありますかね',\n",
       " 'えーと日暮里の近くで何かいい店ありますかね',\n",
       " 'えーと日暮里の近くで何かいい店ありますかね',\n",
       " 'えーと日暮里の近くで何かいい店ありますかね',\n",
       " 'えーと日暮里の近くで何かいい店ありますかね',\n",
       " 'えーと日暮里の近くで何かいい店ありますかね',\n",
       " 'えーと日暮里の近くで何かいい店ありますかね',\n",
       " 'えーと日暮里の近くで何かいい店ありますかね',\n",
       " 'えーと日暮里の近くで何かいい店ありますかね',\n",
       " 'えーと日暮里の近くで何かいい店ありますかね',\n",
       " 'えーと日暮里の近くで何かいい店ありますかね',\n",
       " 'えーと日暮里の近くで何かいい店ありますかね',\n",
       " 'えーと日暮里の近くで何かいい店ありますかね',\n",
       " 'えーと日暮里の近くで何かいい店ありますかね',\n",
       " 'えーと日暮里の近くで何かいい店ありますかね',\n",
       " 'えーと日暮里の近くで何かいい店ありますかね',\n",
       " 'えーと日暮里の近くで何かいい店ありますかね',\n",
       " 'えーと日暮里の近くで何かいい店ありますかね',\n",
       " 'えーと日暮里の近くで何かいい店ありますかね',\n",
       " 'えーと日暮里の近くで何かいい店ありますかね',\n",
       " 'えーと日暮里の近くで何かいい店ありますかね',\n",
       " 'えーと日暮里の近くで何かいい店ありますかね']"
      ]
     },
     "execution_count": 64,
     "metadata": {},
     "output_type": "execute_result"
    }
   ],
   "source": [
    "text_list"
   ]
  },
  {
   "cell_type": "code",
   "execution_count": 65,
   "id": "1b4c601e-5362-416a-924c-af9f4be61dcc",
   "metadata": {
    "tags": []
   },
   "outputs": [
    {
     "data": {
      "image/png": "[encoded data removed]",
      "text/plain": [
       "<Figure size 640x480 with 1 Axes>"
      ]
     },
     "metadata": {},
     "output_type": "display_data"
    }
   ],
   "source": [
    "from matplotlib.animation import FuncAnimation\n",
    "\n",
    "t = [i * 100 for i in range(len(pred_list))]\n",
    "\n",
    "# プロットの初期設定\n",
    "fig, ax = plt.subplots()\n",
    "ax.set_xlim(0, max(t))\n",
    "ax.set_ylim(0, 1)\n",
    "line, = ax.plot([], [], lw=2)\n",
    "\n",
    "# 初期化関数\n",
    "def init():\n",
    "    line.set_data([], [])\n",
    "    return line,\n",
    "\n",
    "# アニメーション関数\n",
    "def animate(i):\n",
    "    x = t[:i+1]\n",
    "    y = pred_list[:i+1]\n",
    "    line.set_data(x, y)\n",
    "    return line,\n",
    "\n",
    "# アニメーションの設定\n",
    "ani = FuncAnimation(fig, animate, init_func=init, frames=len(t), interval=100, blit=True)\n",
    "\n",
    "# 動画として保存\n",
    "#ani.save('animation.mp4', writer='ffmpeg')\n",
    "\n",
    "# グラフ表示\n",
    "plt.show()\n"
   ]
  },
  {
   "cell_type": "markdown",
   "id": "69f0c9aa",
   "metadata": {},
   "source": [
    "# Microphone Input"
   ]
  },
  {
   "cell_type": "code",
   "execution_count": null,
   "id": "05bc5917-6d04-4369-8026-0fdac76b0dc7",
   "metadata": {},
   "outputs": [],
   "source": []
  },
  {
   "cell_type": "code",
   "execution_count": null,
   "id": "2162b88d",
   "metadata": {},
   "outputs": [],
   "source": [
    "CHUNK=1600\n",
    "ASR_CHUNK=2048\n",
    "\n",
    "FORMAT=pyaudio.paInt16\n",
    "CHANNELS=1\n",
    "RATE=16000\n",
    "RECORD_SECONDS=7\n",
    "p=pyaudio.PyAudio()\n",
    "stream = p.open(format=FORMAT,channels=CHANNELS,rate=RATE,input=True,frames_per_buffer=CHUNK)\n",
    "\n",
    "cnnae.reset_generator()\n",
    "speech2text.reset_inference_cache()\n",
    "model.reset_state()\n",
    "\n",
    "pred_list = []\n",
    "text_list = []\n",
    "vad_list = []\n",
    "frames = []\n",
    "text = ''\n",
    "pre_text = ''\n",
    "pre_id = 0\n",
    "asr_buffer = np.array([], dtype='int16')\n",
    "for i in range(0,int(RATE/CHUNK*RECORD_SECONDS)+1):        \n",
    "\n",
    "    data=stream.read(CHUNK)\n",
    "    data=np.frombuffer(data, dtype='int16')\n",
    "    frames.append(data)\n",
    "    #data=data.astype(np.float16)/32767.0 #32767 is the upper limit of 16-bit binary numbers and is used for the normalization of int to float.\n",
    "\n",
    "    with torch.no_grad():\n",
    "        asr_buffer = np.concatenate([asr_buffer, data])\n",
    "        if len(asr_buffer) >= ASR_CHUNK:\n",
    "            asr_chunk = asr_buffer[:ASR_CHUNK]\n",
    "            asr_buffer = asr_buffer[ASR_CHUNK:]\n",
    "\n",
    "            text, token_int = asr_streaming_decoding(asr_chunk)\n",
    "            progress_output(text)\n",
    "        else:\n",
    "            text = pre_text\n",
    "            token_int = pre_id\n",
    "            progress_output(text)\n",
    "            \n",
    "        pre_text = text\n",
    "        pre_id = token_int\n",
    "\n",
    "        # CNN-AE\n",
    "        if i == 0:\n",
    "            pad = np.zeros(1440, np.int16)\n",
    "            data = np.concatenate([pad, data])\n",
    "\n",
    "        feature, _ = cnnae(data, streaming=True)    \n",
    "\n",
    "        # Timing Estimator\n",
    "        feat = torch.tensor(feature.reshape(1, 1, 128))\n",
    "        input_lengths = [1]\n",
    "        texts = [[text]]\n",
    "        idxs = [[token_int]] \n",
    "        indices = [None]\n",
    "\n",
    "        batch = [feat, input_lengths, texts, idxs, indices, 'test']\n",
    "        out, silence, vad_out = model.streaming_inference(batch, debug=True) \n",
    "        out = torch.sigmoid(out).item()\n",
    "        out = torch.sigmoid(out).item()\n",
    "\n",
    "        pred_list.append(out)\n",
    "        text_list.append(text)\n",
    "        vad_list.append(vad_out)\n",
    "        \n",
    "stream.stop_stream()\n",
    "stream.close()\n",
    "p.terminate()"
   ]
  },
  {
   "cell_type": "code",
   "execution_count": null,
   "id": "692bc6b2-33b4-4d5a-824a-d4764ddd7c55",
   "metadata": {},
   "outputs": [],
   "source": []
  },
  {
   "cell_type": "code",
   "execution_count": null,
   "id": "e8c29f98-1202-483a-ac56-75f66123439d",
   "metadata": {},
   "outputs": [],
   "source": []
  }
 ],
 "metadata": {
  "kernelspec": {
   "display_name": "Python 3 (ipykernel)",
   "language": "python",
   "name": "python3"
  },
  "language_info": {
   "codemirror_mode": {
    "name": "ipython",
    "version": 3
   },
   "file_extension": ".py",
   "mimetype": "text/x-python",
   "name": "python",
   "nbconvert_exporter": "python",
   "pygments_lexer": "ipython3",
   "version": "3.7.6"
  },
  "toc": {
   "base_numbering": 1,
   "nav_menu": {},
   "number_sections": true,
   "sideBar": true,
   "skip_h1_title": false,
   "title_cell": "Table of Contents",
   "title_sidebar": "Contents",
   "toc_cell": false,
   "toc_position": {},
   "toc_section_display": true,
   "toc_window_display": false
  }
 },
 "nbformat": 4,
 "nbformat_minor": 5
}
